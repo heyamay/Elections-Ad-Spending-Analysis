{
 "cells": [
  {
   "cell_type": "markdown",
   "id": "4932d9c9-d880-48f1-9451-7552113906bd",
   "metadata": {},
   "source": [
    "# Elections Ad Spending Analysis with Python\n",
    "Now, let’s get started with elections ad spending analysis by importing the dataset and the necessary Python libraries:"
   ]
  },
  {
   "cell_type": "code",
   "execution_count": 3,
   "id": "d1f1c014-b41f-45e2-b69b-3225a9af4f65",
   "metadata": {},
   "outputs": [
    {
     "data": {
      "text/html": [
       "<div>\n",
       "<style scoped>\n",
       "    .dataframe tbody tr th:only-of-type {\n",
       "        vertical-align: middle;\n",
       "    }\n",
       "\n",
       "    .dataframe tbody tr th {\n",
       "        vertical-align: top;\n",
       "    }\n",
       "\n",
       "    .dataframe thead th {\n",
       "        text-align: right;\n",
       "    }\n",
       "</style>\n",
       "<table border=\"1\" class=\"dataframe\">\n",
       "  <thead>\n",
       "    <tr style=\"text-align: right;\">\n",
       "      <th></th>\n",
       "      <th>_id</th>\n",
       "      <th>Sl No</th>\n",
       "      <th>State</th>\n",
       "      <th>PC_Name</th>\n",
       "      <th>Total Electors</th>\n",
       "      <th>Polled (%)</th>\n",
       "      <th>Total Votes</th>\n",
       "      <th>Phase</th>\n",
       "    </tr>\n",
       "  </thead>\n",
       "  <tbody>\n",
       "    <tr>\n",
       "      <th>0</th>\n",
       "      <td>1</td>\n",
       "      <td>1.0</td>\n",
       "      <td>Andaman &amp; Nicobar Islands</td>\n",
       "      <td>Andaman &amp; Nicobar Islands</td>\n",
       "      <td>315148</td>\n",
       "      <td>64.10</td>\n",
       "      <td>202018</td>\n",
       "      <td>1.0</td>\n",
       "    </tr>\n",
       "    <tr>\n",
       "      <th>1</th>\n",
       "      <td>2</td>\n",
       "      <td>2.0</td>\n",
       "      <td>Arunachal Pradesh</td>\n",
       "      <td>Arunachal East</td>\n",
       "      <td>375310</td>\n",
       "      <td>83.31</td>\n",
       "      <td>312658</td>\n",
       "      <td>1.0</td>\n",
       "    </tr>\n",
       "    <tr>\n",
       "      <th>2</th>\n",
       "      <td>3</td>\n",
       "      <td>3.0</td>\n",
       "      <td>Arunachal Pradesh</td>\n",
       "      <td>Arunachal West</td>\n",
       "      <td>517384</td>\n",
       "      <td>73.60</td>\n",
       "      <td>380783</td>\n",
       "      <td>1.0</td>\n",
       "    </tr>\n",
       "    <tr>\n",
       "      <th>3</th>\n",
       "      <td>4</td>\n",
       "      <td>4.0</td>\n",
       "      <td>Assam</td>\n",
       "      <td>Dibrugarh</td>\n",
       "      <td>1659588</td>\n",
       "      <td>76.75</td>\n",
       "      <td>1273744</td>\n",
       "      <td>1.0</td>\n",
       "    </tr>\n",
       "    <tr>\n",
       "      <th>4</th>\n",
       "      <td>5</td>\n",
       "      <td>5.0</td>\n",
       "      <td>Assam</td>\n",
       "      <td>Jorhat</td>\n",
       "      <td>1727121</td>\n",
       "      <td>79.89</td>\n",
       "      <td>1379749</td>\n",
       "      <td>1.0</td>\n",
       "    </tr>\n",
       "  </tbody>\n",
       "</table>\n",
       "</div>"
      ],
      "text/plain": [
       "   _id  Sl No                      State                    PC_Name  \\\n",
       "0    1    1.0  Andaman & Nicobar Islands  Andaman & Nicobar Islands   \n",
       "1    2    2.0          Arunachal Pradesh             Arunachal East   \n",
       "2    3    3.0          Arunachal Pradesh             Arunachal West   \n",
       "3    4    4.0                      Assam                  Dibrugarh   \n",
       "4    5    5.0                      Assam                     Jorhat   \n",
       "\n",
       "   Total Electors  Polled (%)  Total Votes  Phase  \n",
       "0          315148       64.10       202018    1.0  \n",
       "1          375310       83.31       312658    1.0  \n",
       "2          517384       73.60       380783    1.0  \n",
       "3         1659588       76.75      1273744    1.0  \n",
       "4         1727121       79.89      1379749    1.0  "
      ]
     },
     "execution_count": 3,
     "metadata": {},
     "output_type": "execute_result"
    }
   ],
   "source": [
    "import pandas as pd\n",
    "\n",
    "results = pd.read_csv(r\"C:\\Users\\Dongen_Master\\Downloads\\OneDrive\\Desktop\\Elections Ad Spending Analysis\\results.csv\")\n",
    "advertisers = pd.read_csv(r\"C:\\Users\\Dongen_Master\\Downloads\\OneDrive\\Desktop\\Elections Ad Spending Analysis\\advertisers.csv\")\n",
    "locations = pd.read_csv(r\"C:\\Users\\Dongen_Master\\Downloads\\OneDrive\\Desktop\\Elections Ad Spending Analysis\\locations.csv\")\n",
    "\n",
    "results.head()"
   ]
  },
  {
   "cell_type": "code",
   "execution_count": 3,
   "id": "1c311f42-0580-41b2-a303-adb24347fcc9",
   "metadata": {},
   "outputs": [
    {
     "data": {
      "text/html": [
       "<div>\n",
       "<style scoped>\n",
       "    .dataframe tbody tr th:only-of-type {\n",
       "        vertical-align: middle;\n",
       "    }\n",
       "\n",
       "    .dataframe tbody tr th {\n",
       "        vertical-align: top;\n",
       "    }\n",
       "\n",
       "    .dataframe thead th {\n",
       "        text-align: right;\n",
       "    }\n",
       "</style>\n",
       "<table border=\"1\" class=\"dataframe\">\n",
       "  <thead>\n",
       "    <tr style=\"text-align: right;\">\n",
       "      <th></th>\n",
       "      <th>Page ID</th>\n",
       "      <th>Page name</th>\n",
       "      <th>Disclaimer</th>\n",
       "      <th>Amount spent (INR)</th>\n",
       "      <th>Number of ads in Library</th>\n",
       "    </tr>\n",
       "  </thead>\n",
       "  <tbody>\n",
       "    <tr>\n",
       "      <th>0</th>\n",
       "      <td>121439954563203</td>\n",
       "      <td>Bharatiya Janata Party (BJP)</td>\n",
       "      <td>Bharatiya Janata Party (BJP)</td>\n",
       "      <td>193854342</td>\n",
       "      <td>43455</td>\n",
       "    </tr>\n",
       "    <tr>\n",
       "      <th>1</th>\n",
       "      <td>351616078284404</td>\n",
       "      <td>Indian National Congress</td>\n",
       "      <td>Indian National Congress</td>\n",
       "      <td>108787100</td>\n",
       "      <td>846</td>\n",
       "    </tr>\n",
       "    <tr>\n",
       "      <th>2</th>\n",
       "      <td>132715103269897</td>\n",
       "      <td>Ama Chinha Sankha Chinha</td>\n",
       "      <td>Ama Chinha Sankha Chinha</td>\n",
       "      <td>73361399</td>\n",
       "      <td>1799</td>\n",
       "    </tr>\n",
       "    <tr>\n",
       "      <th>3</th>\n",
       "      <td>192856493908290</td>\n",
       "      <td>Ama Chinha Sankha Chinha</td>\n",
       "      <td>Ama Chinha Sankha Chinha</td>\n",
       "      <td>32294327</td>\n",
       "      <td>680</td>\n",
       "    </tr>\n",
       "    <tr>\n",
       "      <th>4</th>\n",
       "      <td>109470364774303</td>\n",
       "      <td>Ellorum Nammudan</td>\n",
       "      <td>Populus Empowerment Network Private Limited</td>\n",
       "      <td>22399499</td>\n",
       "      <td>879</td>\n",
       "    </tr>\n",
       "  </tbody>\n",
       "</table>\n",
       "</div>"
      ],
      "text/plain": [
       "           Page ID                     Page name  \\\n",
       "0  121439954563203  Bharatiya Janata Party (BJP)   \n",
       "1  351616078284404      Indian National Congress   \n",
       "2  132715103269897      Ama Chinha Sankha Chinha   \n",
       "3  192856493908290      Ama Chinha Sankha Chinha   \n",
       "4  109470364774303              Ellorum Nammudan   \n",
       "\n",
       "                                    Disclaimer Amount spent (INR)  \\\n",
       "0                 Bharatiya Janata Party (BJP)          193854342   \n",
       "1                     Indian National Congress          108787100   \n",
       "2                     Ama Chinha Sankha Chinha           73361399   \n",
       "3                     Ama Chinha Sankha Chinha           32294327   \n",
       "4  Populus Empowerment Network Private Limited           22399499   \n",
       "\n",
       "   Number of ads in Library  \n",
       "0                     43455  \n",
       "1                       846  \n",
       "2                      1799  \n",
       "3                       680  \n",
       "4                       879  "
      ]
     },
     "execution_count": 3,
     "metadata": {},
     "output_type": "execute_result"
    }
   ],
   "source": [
    "advertisers.head()"
   ]
  },
  {
   "cell_type": "code",
   "execution_count": 4,
   "id": "95b10a40-7f71-430f-87e4-26ded551db83",
   "metadata": {},
   "outputs": [
    {
     "data": {
      "text/html": [
       "<div>\n",
       "<style scoped>\n",
       "    .dataframe tbody tr th:only-of-type {\n",
       "        vertical-align: middle;\n",
       "    }\n",
       "\n",
       "    .dataframe tbody tr th {\n",
       "        vertical-align: top;\n",
       "    }\n",
       "\n",
       "    .dataframe thead th {\n",
       "        text-align: right;\n",
       "    }\n",
       "</style>\n",
       "<table border=\"1\" class=\"dataframe\">\n",
       "  <thead>\n",
       "    <tr style=\"text-align: right;\">\n",
       "      <th></th>\n",
       "      <th>Location name</th>\n",
       "      <th>Amount spent (INR)</th>\n",
       "    </tr>\n",
       "  </thead>\n",
       "  <tbody>\n",
       "    <tr>\n",
       "      <th>0</th>\n",
       "      <td>Andaman and Nicobar Islands</td>\n",
       "      <td>377858</td>\n",
       "    </tr>\n",
       "    <tr>\n",
       "      <th>1</th>\n",
       "      <td>Andhra Pradesh</td>\n",
       "      <td>100819732</td>\n",
       "    </tr>\n",
       "    <tr>\n",
       "      <th>2</th>\n",
       "      <td>Arunachal Pradesh</td>\n",
       "      <td>1385654</td>\n",
       "    </tr>\n",
       "    <tr>\n",
       "      <th>3</th>\n",
       "      <td>Assam</td>\n",
       "      <td>17478091</td>\n",
       "    </tr>\n",
       "    <tr>\n",
       "      <th>4</th>\n",
       "      <td>Bihar</td>\n",
       "      <td>53619242</td>\n",
       "    </tr>\n",
       "  </tbody>\n",
       "</table>\n",
       "</div>"
      ],
      "text/plain": [
       "                 Location name  Amount spent (INR)\n",
       "0  Andaman and Nicobar Islands              377858\n",
       "1               Andhra Pradesh           100819732\n",
       "2            Arunachal Pradesh             1385654\n",
       "3                        Assam            17478091\n",
       "4                        Bihar            53619242"
      ]
     },
     "execution_count": 4,
     "metadata": {},
     "output_type": "execute_result"
    }
   ],
   "source": [
    "locations.head()"
   ]
  },
  {
   "cell_type": "markdown",
   "id": "70ae72a8-9102-4b4c-be68-cf02a6f68436",
   "metadata": {},
   "source": [
    "##### The results data has a column named state, and the location data has a column named location name. We will merge these datasets using these columns:"
   ]
  },
  {
   "cell_type": "code",
   "execution_count": 4,
   "id": "e5cd0b46-b1f1-411d-b70a-313bb7890309",
   "metadata": {},
   "outputs": [
    {
     "data": {
      "text/html": [
       "<div>\n",
       "<style scoped>\n",
       "    .dataframe tbody tr th:only-of-type {\n",
       "        vertical-align: middle;\n",
       "    }\n",
       "\n",
       "    .dataframe tbody tr th {\n",
       "        vertical-align: top;\n",
       "    }\n",
       "\n",
       "    .dataframe thead th {\n",
       "        text-align: right;\n",
       "    }\n",
       "</style>\n",
       "<table border=\"1\" class=\"dataframe\">\n",
       "  <thead>\n",
       "    <tr style=\"text-align: right;\">\n",
       "      <th></th>\n",
       "      <th>_id</th>\n",
       "      <th>Sl No</th>\n",
       "      <th>State</th>\n",
       "      <th>PC_Name</th>\n",
       "      <th>Total Electors</th>\n",
       "      <th>Polled (%)</th>\n",
       "      <th>Total Votes</th>\n",
       "      <th>Phase</th>\n",
       "      <th>Location name</th>\n",
       "      <th>Amount spent (INR)</th>\n",
       "    </tr>\n",
       "  </thead>\n",
       "  <tbody>\n",
       "    <tr>\n",
       "      <th>0</th>\n",
       "      <td>1</td>\n",
       "      <td>1.0</td>\n",
       "      <td>andaman &amp; nicobar islands</td>\n",
       "      <td>Andaman &amp; Nicobar Islands</td>\n",
       "      <td>315148</td>\n",
       "      <td>64.10</td>\n",
       "      <td>202018</td>\n",
       "      <td>1.0</td>\n",
       "      <td>NaN</td>\n",
       "      <td>NaN</td>\n",
       "    </tr>\n",
       "    <tr>\n",
       "      <th>1</th>\n",
       "      <td>2</td>\n",
       "      <td>2.0</td>\n",
       "      <td>arunachal pradesh</td>\n",
       "      <td>Arunachal East</td>\n",
       "      <td>375310</td>\n",
       "      <td>83.31</td>\n",
       "      <td>312658</td>\n",
       "      <td>1.0</td>\n",
       "      <td>arunachal pradesh</td>\n",
       "      <td>1385654.0</td>\n",
       "    </tr>\n",
       "    <tr>\n",
       "      <th>2</th>\n",
       "      <td>3</td>\n",
       "      <td>3.0</td>\n",
       "      <td>arunachal pradesh</td>\n",
       "      <td>Arunachal West</td>\n",
       "      <td>517384</td>\n",
       "      <td>73.60</td>\n",
       "      <td>380783</td>\n",
       "      <td>1.0</td>\n",
       "      <td>arunachal pradesh</td>\n",
       "      <td>1385654.0</td>\n",
       "    </tr>\n",
       "    <tr>\n",
       "      <th>3</th>\n",
       "      <td>4</td>\n",
       "      <td>4.0</td>\n",
       "      <td>assam</td>\n",
       "      <td>Dibrugarh</td>\n",
       "      <td>1659588</td>\n",
       "      <td>76.75</td>\n",
       "      <td>1273744</td>\n",
       "      <td>1.0</td>\n",
       "      <td>assam</td>\n",
       "      <td>17478091.0</td>\n",
       "    </tr>\n",
       "    <tr>\n",
       "      <th>4</th>\n",
       "      <td>5</td>\n",
       "      <td>5.0</td>\n",
       "      <td>assam</td>\n",
       "      <td>Jorhat</td>\n",
       "      <td>1727121</td>\n",
       "      <td>79.89</td>\n",
       "      <td>1379749</td>\n",
       "      <td>1.0</td>\n",
       "      <td>assam</td>\n",
       "      <td>17478091.0</td>\n",
       "    </tr>\n",
       "  </tbody>\n",
       "</table>\n",
       "</div>"
      ],
      "text/plain": [
       "   _id  Sl No                      State                    PC_Name  \\\n",
       "0    1    1.0  andaman & nicobar islands  Andaman & Nicobar Islands   \n",
       "1    2    2.0          arunachal pradesh             Arunachal East   \n",
       "2    3    3.0          arunachal pradesh             Arunachal West   \n",
       "3    4    4.0                      assam                  Dibrugarh   \n",
       "4    5    5.0                      assam                     Jorhat   \n",
       "\n",
       "   Total Electors  Polled (%)  Total Votes  Phase      Location name  \\\n",
       "0          315148       64.10       202018    1.0                NaN   \n",
       "1          375310       83.31       312658    1.0  arunachal pradesh   \n",
       "2          517384       73.60       380783    1.0  arunachal pradesh   \n",
       "3         1659588       76.75      1273744    1.0              assam   \n",
       "4         1727121       79.89      1379749    1.0              assam   \n",
       "\n",
       "   Amount spent (INR)  \n",
       "0                 NaN  \n",
       "1           1385654.0  \n",
       "2           1385654.0  \n",
       "3          17478091.0  \n",
       "4          17478091.0  "
      ]
     },
     "execution_count": 4,
     "metadata": {},
     "output_type": "execute_result"
    }
   ],
   "source": [
    "results['State'] = results['State'].str.strip().str.lower()\n",
    "\n",
    "locations['Location name'] = locations['Location name'].str.strip().str.lower()\n",
    "\n",
    "merged_data = results.merge(\n",
    "    locations,\n",
    "    left_on='State',\n",
    "    right_on='Location name',\n",
    "    how='left'\n",
    ")\n",
    "\n",
    "merged_data.head()"
   ]
  },
  {
   "cell_type": "markdown",
   "id": "4dc7c7d9-f4a9-4827-9642-9f73cd2668dc",
   "metadata": {},
   "source": [
    "##### Let’s have a look at the total ad spend by state:"
   ]
  },
  {
   "cell_type": "code",
   "execution_count": 7,
   "id": "854f8716-a937-4f00-9440-24af3eaea383",
   "metadata": {},
   "outputs": [
    {
     "data": {
      "text/html": [
       "<iframe\n",
       "    scrolling=\"no\"\n",
       "    width=\"820px\"\n",
       "    height=\"620\"\n",
       "    src=\"iframe_figures/figure_7.html\"\n",
       "    frameborder=\"0\"\n",
       "    allowfullscreen\n",
       "></iframe>\n"
      ]
     },
     "metadata": {},
     "output_type": "display_data"
    }
   ],
   "source": [
    "import plotly.express as px\n",
    "import plotly.io as pio\n",
    "import plotly.graph_objects as go\n",
    "import plotly.io as pio\n",
    "pio.renderers.default = 'iframe'\n",
    "\n",
    "\n",
    "state_ad_spend = merged_data.groupby('State')['Amount spent (INR)'].sum().reset_index()\n",
    "\n",
    "fig = px.bar(state_ad_spend, x='State', y='Amount spent (INR)',\n",
    "             labels={'State': 'State', 'Amount spent (INR)': 'Ad Spend (INR)'},\n",
    "             title='Total Ad Spend by State')\n",
    "\n",
    "fig.update_layout(xaxis={'categoryorder': 'total descending'},\n",
    "                  xaxis_tickangle=-90,\n",
    "                  width=800,\n",
    "                  height=600)\n",
    "\n",
    "fig.show()"
   ]
  },
  {
   "cell_type": "markdown",
   "id": "a38f789a-ed13-496e-a8a3-fbd67ada3df3",
   "metadata": {},
   "source": [
    "The bar graph shows the total ad spend (in INR) by state. Uttar Pradesh leads significantly with the highest ad spend, followed by Maharashtra and Odisha. States like West Bengal, Tamil Nadu, Andhra Pradesh, and Bihar also show substantial ad expenditures. In contrast, states such as Lakshadweep, Dadra & Nagar Haveli, Daman & Diu, Andaman & Nicobar Islands, and Arunachal Pradesh have the lowest ad spend. It indicates that larger and more populous states tend to spend more on ads, likely reflecting their greater political significance and larger voter base."
   ]
  },
  {
   "cell_type": "markdown",
   "id": "3c2127c8-67b5-4376-ac29-86f69dd664c6",
   "metadata": {},
   "source": [
    "Now, let’s have a look at the average voter turnout by state:"
   ]
  },
  {
   "cell_type": "code",
   "execution_count": 8,
   "id": "a231aa50-1003-4f89-8b8d-ee411a3ff7ca",
   "metadata": {},
   "outputs": [
    {
     "data": {
      "text/html": [
       "<iframe\n",
       "    scrolling=\"no\"\n",
       "    width=\"820px\"\n",
       "    height=\"620\"\n",
       "    src=\"iframe_figures/figure_8.html\"\n",
       "    frameborder=\"0\"\n",
       "    allowfullscreen\n",
       "></iframe>\n"
      ]
     },
     "metadata": {},
     "output_type": "display_data"
    }
   ],
   "source": [
    "state_voter_turnout = merged_data.groupby('State')['Polled (%)'].mean().reset_index()\n",
    "\n",
    "fig = px.bar(state_voter_turnout, x='State', y='Polled (%)',\n",
    "             labels={'State': 'State', 'Polled (%)': 'Voter Turnout (%)'},\n",
    "             title='Average Voter Turnout by State')\n",
    "\n",
    "fig.update_layout(xaxis={'categoryorder': 'total descending'},\n",
    "                  xaxis_tickangle=-90,\n",
    "                  width=800,\n",
    "                  height=600)\n",
    "\n",
    "fig.show()"
   ]
  },
  {
   "cell_type": "markdown",
   "id": "08764801-ca53-4655-b854-55f5f087c971",
   "metadata": {},
   "source": [
    "Lakshadweep has the highest average voter turnout at nearly 80%, followed closely by Tripura and Assam. States like Andhra Pradesh, Sikkim, and West Bengal also show high voter engagement, with turnouts above 70%. On the other end of the spectrum, states such as Bihar, Uttar Pradesh, and Uttarakhand have the lowest average voter turnout, around 50-55%. It indicates significant regional variations in voter participation, with some smaller states and union territories exhibiting higher engagement compared to larger states with higher ad spend."
   ]
  },
  {
   "cell_type": "markdown",
   "id": "6dcaacec-142e-4dc1-a725-2c59af876efc",
   "metadata": {},
   "source": [
    "Now, let’s have a look at the top 5 parties by ad spend:"
   ]
  },
  {
   "cell_type": "code",
   "execution_count": 9,
   "id": "81895154-31cd-471e-b931-464630f46209",
   "metadata": {},
   "outputs": [
    {
     "data": {
      "text/html": [
       "<iframe\n",
       "    scrolling=\"no\"\n",
       "    width=\"100%\"\n",
       "    height=\"545px\"\n",
       "    src=\"iframe_figures/figure_9.html\"\n",
       "    frameborder=\"0\"\n",
       "    allowfullscreen\n",
       "></iframe>\n"
      ]
     },
     "metadata": {},
     "output_type": "display_data"
    }
   ],
   "source": [
    "advertisers['Amount spent (INR)'] = pd.to_numeric(advertisers['Amount spent (INR)'], errors='coerce')\n",
    "\n",
    "advertisers.dropna(subset=['Amount spent (INR)'], inplace=True)\n",
    "\n",
    "party_ad_spend = advertisers.groupby('Page name')['Amount spent (INR)'].sum().sort_values(ascending=False)\n",
    "\n",
    "top_5_parties = party_ad_spend.head(5).reset_index()\n",
    "\n",
    "colors = ['#ff9999', '#66b3ff', '#99ff99', '#ffcc99', '#c2c2f0']\n",
    "\n",
    "fig = px.pie(top_5_parties, values='Amount spent (INR)', names='Page name',\n",
    "             title='Top 5 Parties by Ad Spend', color_discrete_sequence=colors,\n",
    "             labels={'Page name': 'Political Party', 'Amount spent (INR)': 'Ad Spend (INR)'})\n",
    "\n",
    "fig.update_traces(textinfo='percent')\n",
    "\n",
    "fig.update_layout(\n",
    "    showlegend=True,\n",
    "    legend=dict(\n",
    "        orientation=\"v\",\n",
    "        yanchor=\"top\",\n",
    "        y=1,\n",
    "        xanchor=\"left\",\n",
    "        x=-0.3\n",
    "    ),\n",
    "    title=dict(\n",
    "        y=0.95,\n",
    "        x=0.5,\n",
    "        xanchor='center',\n",
    "        yanchor='top'\n",
    "    ),\n",
    "    margin=dict(l=200, r=50, t=100, b=50) \n",
    ")\n",
    "\n",
    "fig.show()"
   ]
  },
  {
   "cell_type": "markdown",
   "id": "d69fbf59-d56b-4808-a757-f24706210972",
   "metadata": {},
   "source": [
    "The Bharatiya Janata Party (BJP) has the highest ad spend, accounting for 42.3% of the total. This is followed by the Ama Chinha Sankha Chinha party at 24.5% and the Indian National Congress at 23.7%. Ellorum Nammudan and BJP Odisha have significantly lower ad spends, at 5.19% and 4.27%, respectively. It indicates that BJP dominates in terms of ad spending on Facebook and Instagram ads, with nearly half of the total expenditure, suggesting a significant investment in advertising compared to other parties."
   ]
  },
  {
   "cell_type": "markdown",
   "id": "3311e3e2-b6c3-4179-a6c9-58559eb038b9",
   "metadata": {},
   "source": [
    "Now, let’s have a look at the correlation between ad spend and voter turnout:"
   ]
  },
  {
   "cell_type": "code",
   "execution_count": 10,
   "id": "f66df91b-c838-4fb3-847a-ed45aece4a5b",
   "metadata": {},
   "outputs": [
    {
     "name": "stdout",
     "output_type": "stream",
     "text": [
      "                    Amount spent (INR)  Polled (%)\n",
      "Amount spent (INR)            1.000000   -0.010688\n",
      "Polled (%)                   -0.010688    1.000000\n"
     ]
    }
   ],
   "source": [
    "# calculate the correlation between ad spend and voter turnout\n",
    "correlation = merged_data[['Amount spent (INR)', 'Polled (%)']].corr()\n",
    "print(correlation)"
   ]
  },
  {
   "cell_type": "markdown",
   "id": "c29969e8-ae30-4371-97cb-8e050d8ffb8f",
   "metadata": {},
   "source": [
    "The correlation matrix shows that the relationship between the amount spent (INR) and the percentage of votes polled (%) is very weak and slightly negative, with a correlation coefficient of -0.010688. This indicates that there is virtually no linear relationship between ad spend and voter turnout. In other words, increasing the amount spent on advertising does not significantly affect the percentage of voter turnout."
   ]
  },
  {
   "cell_type": "markdown",
   "id": "078479ae-89e8-4fcf-a7de-e233464ba08a",
   "metadata": {},
   "source": [
    "Now, let’s have a look at the relationship between ad spend and voter turnout by parliamentary constituency:"
   ]
  },
  {
   "cell_type": "code",
   "execution_count": 11,
   "id": "acdd6bc4-bffc-4192-a7fb-2e78df124ed4",
   "metadata": {},
   "outputs": [
    {
     "data": {
      "text/html": [
       "<iframe\n",
       "    scrolling=\"no\"\n",
       "    width=\"820px\"\n",
       "    height=\"620\"\n",
       "    src=\"iframe_figures/figure_11.html\"\n",
       "    frameborder=\"0\"\n",
       "    allowfullscreen\n",
       "></iframe>\n"
      ]
     },
     "metadata": {},
     "output_type": "display_data"
    }
   ],
   "source": [
    "merged_constituency_data = results.merge(\n",
    "    locations,\n",
    "    left_on='State',\n",
    "    right_on='Location name',\n",
    "    how='left'\n",
    ")\n",
    "\n",
    "fig = px.scatter(merged_constituency_data, x='Amount spent (INR)', y='Polled (%)',\n",
    "                 color='State',\n",
    "                 labels={'Amount spent (INR)': 'Ad Spend (INR)', 'Polled (%)': 'Voter Turnout (%)'},\n",
    "                 title='Ad Spend and Voter Turnout by Parliamentary Constituency')\n",
    "\n",
    "fig.update_layout(width=800, height=600)\n",
    "\n",
    "fig.show()"
   ]
  },
  {
   "cell_type": "markdown",
   "id": "3e5766ee-634d-44da-a920-7c70af31a12f",
   "metadata": {},
   "source": [
    "It shows that higher ad spending does not necessarily correlate with higher voter turnout. Voter turnout seems to cluster between 60% and 80% across most constituencies, regardless of the ad spend amount, which ranges from 0 to 150 million INR. This suggests that other factors besides ad spend may play a significant role in influencing voter turnout."
   ]
  },
  {
   "cell_type": "markdown",
   "id": "04aee70d-81e1-417c-b0fe-441eaee4ed33",
   "metadata": {},
   "source": [
    "Now, let's have a look at the distribution of ad spending:"
   ]
  },
  {
   "cell_type": "code",
   "execution_count": 22,
   "id": "65878a07-bd12-4350-971a-ec02258ef4a4",
   "metadata": {},
   "outputs": [
    {
     "data": {
      "text/html": [
       "<iframe\n",
       "    scrolling=\"no\"\n",
       "    width=\"820px\"\n",
       "    height=\"620\"\n",
       "    src=\"iframe_figures/figure_22.html\"\n",
       "    frameborder=\"0\"\n",
       "    allowfullscreen\n",
       "></iframe>\n"
      ]
     },
     "metadata": {},
     "output_type": "display_data"
    }
   ],
   "source": [
    "fig = px.histogram(merged_data, x='Amount spent (INR)', nbins=30, marginal='box',\n",
    "                   labels={'Amount spent (INR)': 'Ad Spend (INR)'},\n",
    "                   title='Distribution of Ad Spend')\n",
    "\n",
    "fig.update_traces(marker=dict(line=dict(color='black', width=1)))\n",
    "fig.update_layout(bargap=0.1, width=800, height=600)\n",
    "\n",
    "fig.show()"
   ]
  },
  {
   "cell_type": "markdown",
   "id": "ec7aced2-4e4f-48bc-842c-4cbe3fbd398c",
   "metadata": {},
   "source": [
    "The histogram indicates that most constituencies have ad spends clustered around the 50M and 100M INR marks, with fewer constituencies spending less than 10M INR or more than 150M INR. The box plot highlights that the median ad spend is around 70M INR, with the interquartile range (IQR) spanning from approximately 30M to 110M INR. There are a few outliers, particularly a constituency with an exceptionally high ad spend above 150M INR. This distribution suggests that while the majority of ad spends are concentrated within a certain range, there are notable exceptions with significantly higher expenditures."
   ]
  },
  {
   "cell_type": "markdown",
   "id": "6f1d8104-1eab-4be9-97fd-ffeb6e58759f",
   "metadata": {},
   "source": [
    "Now, let’s analyze ad spending and voter turnout by election phase:"
   ]
  },
  {
   "cell_type": "code",
   "execution_count": 13,
   "id": "cc31b342-7e44-4be8-bd73-adb6015357d5",
   "metadata": {},
   "outputs": [
    {
     "data": {
      "text/html": [
       "<iframe\n",
       "    scrolling=\"no\"\n",
       "    width=\"820px\"\n",
       "    height=\"620\"\n",
       "    src=\"iframe_figures/figure_13.html\"\n",
       "    frameborder=\"0\"\n",
       "    allowfullscreen\n",
       "></iframe>\n"
      ]
     },
     "metadata": {},
     "output_type": "display_data"
    }
   ],
   "source": [
    "import plotly.graph_objects as go\n",
    "\n",
    "phase_analysis = merged_data.groupby('Phase').agg({\n",
    "    'Amount spent (INR)': 'sum',\n",
    "    'Polled (%)': 'mean'\n",
    "}).reset_index()\n",
    "\n",
    "fig = go.Figure()\n",
    "\n",
    "fig.add_trace(go.Bar(\n",
    "    x=phase_analysis['Phase'],\n",
    "    y=phase_analysis['Amount spent (INR)'],\n",
    "    name='Ad Spend (INR)',\n",
    "    marker_color='indianred',\n",
    "    yaxis='y1'\n",
    "))\n",
    "\n",
    "fig.add_trace(go.Scatter(\n",
    "    x=phase_analysis['Phase'],\n",
    "    y=phase_analysis['Polled (%)'],\n",
    "    name='Voter Turnout (%)',\n",
    "    marker_color='lightsalmon',\n",
    "    yaxis='y2'\n",
    "))\n",
    "\n",
    "fig.update_layout(\n",
    "    title='Ad Spend and Voter Turnout by Election Phase',\n",
    "    xaxis=dict(title='Election Phase'),\n",
    "    yaxis=dict(\n",
    "        title='Ad Spend (INR)',\n",
    "        titlefont=dict(color='indianred'),\n",
    "        tickfont=dict(color='indianred')\n",
    "    ),\n",
    "    yaxis2=dict(\n",
    "        title='Voter Turnout (%)',\n",
    "        titlefont=dict(color='lightsalmon'),\n",
    "        tickfont=dict(color='lightsalmon'),\n",
    "        overlaying='y',\n",
    "        side='right'\n",
    "    ),\n",
    "    legend=dict(x=0.1, y=1.1, orientation='h'),\n",
    "    width=800,\n",
    "    height=600\n",
    ")\n",
    "\n",
    "fig.show()"
   ]
  },
  {
   "cell_type": "markdown",
   "id": "59c55010-7ebb-491b-9bdf-c1ebf849476c",
   "metadata": {},
   "source": [
    "There is no consistent trend between ad spend and voter turnout. Election phases 1 and 4 have the highest ad spends, with phase 4 peaking in voter turnout at around 70%. However, phase 1, despite high ad spend, has a lower voter turnout of about 67%. Phases with moderate ad spend (e.g., 2 and 6) have lower voter turnout, while phase 5 has a notably low turnout despite moderate spending."
   ]
  },
  {
   "cell_type": "markdown",
   "id": "4f5b06d5-0e67-4625-b96b-cef8361ca1dd",
   "metadata": {},
   "source": [
    "## Conclusion\n",
    "Overall, the analyses indicate that higher ad spend does not guarantee higher voter turnout and voter engagement is influenced by various other factors. Larger and more significant states tend to spend more on ads, but this does not necessarily translate to higher voter participation. Political parties, particularly the BJP, invest heavily in advertising, yet the effectiveness of this spending in increasing voter turnout is questionable."
   ]
  },
  {
   "cell_type": "code",
   "execution_count": null,
   "id": "8e1529fb-8709-4599-9180-45a484875d03",
   "metadata": {},
   "outputs": [],
   "source": []
  }
 ],
 "metadata": {
  "kernelspec": {
   "display_name": "Python 3 (ipykernel)",
   "language": "python",
   "name": "python3"
  },
  "language_info": {
   "codemirror_mode": {
    "name": "ipython",
    "version": 3
   },
   "file_extension": ".py",
   "mimetype": "text/x-python",
   "name": "python",
   "nbconvert_exporter": "python",
   "pygments_lexer": "ipython3",
   "version": "3.12.5"
  }
 },
 "nbformat": 4,
 "nbformat_minor": 5
}
